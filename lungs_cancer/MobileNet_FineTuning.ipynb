{
 "cells": [
  {
   "cell_type": "code",
   "execution_count": null,
   "metadata": {
    "colab": {
     "base_uri": "https://localhost:8080/",
     "height": 122
    },
    "id": "eFPq-F_mC1xl",
    "outputId": "f3a16e1a-3650-48dc-8570-9a1d2564c245"
   },
   "outputs": [
    {
     "name": "stdout",
     "output_type": "stream",
     "text": [
      "Go to this URL in a browser: https://accounts.google.com/o/oauth2/auth?client_id=947318989803-6bn6qk8qdgf4n4g3pfee6491hc0brc4i.apps.googleusercontent.com&redirect_uri=urn%3aietf%3awg%3aoauth%3a2.0%3aoob&response_type=code&scope=email%20https%3a%2f%2fwww.googleapis.com%2fauth%2fdocs.test%20https%3a%2f%2fwww.googleapis.com%2fauth%2fdrive%20https%3a%2f%2fwww.googleapis.com%2fauth%2fdrive.photos.readonly%20https%3a%2f%2fwww.googleapis.com%2fauth%2fpeopleapi.readonly\n",
      "\n",
      "Enter your authorization code:\n",
      "··········\n",
      "Mounted at /content/drive\n"
     ]
    }
   ],
   "source": [
    "from google.colab import drive\n",
    "drive.mount('/content/drive')"
   ]
  },
  {
   "cell_type": "code",
   "execution_count": 1,
   "metadata": {
    "colab": {
     "base_uri": "https://localhost:8080/",
     "height": 34
    },
    "id": "jbaISW6uDA2L",
    "outputId": "7b22b9dd-7329-4247-b412-72367060c565"
   },
   "outputs": [],
   "source": [
    "%cd /content/drive/'My Drive'/lungs-caner"
   ]
  },
  {
   "cell_type": "code",
   "execution_count": null,
   "metadata": {
    "colab": {
     "base_uri": "https://localhost:8080/",
     "height": 34
    },
    "id": "BFhMiVl2DqrI",
    "outputId": "0ef099c3-25db-4eb2-b815-0fb1044c0c49"
   },
   "outputs": [
    {
     "name": "stderr",
     "output_type": "stream",
     "text": [
      "Using TensorFlow backend.\n"
     ]
    }
   ],
   "source": [
    "#importing libs\n",
    "import keras\n",
    "from keras.applications.mobilenet import MobileNet\n",
    "from keras.layers.convolutional import Conv2D, MaxPooling2D\n",
    "from keras.models import Model, Sequential\n",
    "from keras import optimizers\n",
    "from keras.layers import Dropout, Flatten, Dense, Activation, GlobalAveragePooling2D\n",
    "from keras.preprocessing.image import ImageDataGenerator, load_img, img_to_array, array_to_img"
   ]
  },
  {
   "cell_type": "code",
   "execution_count": null,
   "metadata": {
    "id": "_q3xMJuAFPls"
   },
   "outputs": [],
   "source": [
    "#file handling and image manipulation\n",
    "from PIL import Image\n",
    "import matplotlib.pyplot as plt\n",
    "import os\n",
    "import shutil\n",
    "import numpy as np\n",
    "import pandas as pd\n",
    "from keras import callbacks\n",
    "import sys\n",
    "import glob"
   ]
  },
  {
   "cell_type": "code",
   "execution_count": null,
   "metadata": {
    "id": "FVXYSKFsGBfQ"
   },
   "outputs": [],
   "source": [
    "train_data_dir = './lungs_cancer/train'\n",
    "validation_data_dir = './lungs_cancer/val'"
   ]
  },
  {
   "cell_type": "code",
   "execution_count": null,
   "metadata": {
    "id": "5xSxZiy6GNmG"
   },
   "outputs": [],
   "source": [
    "img_width, img_height = 224, 224\n",
    "nb_train_samples = 9010\n",
    "nb_validation_samples = 3010\n",
    "classes_num = 3\n",
    "batch_size = 32\n",
    "lr = 0.0001"
   ]
  },
  {
   "cell_type": "code",
   "execution_count": null,
   "metadata": {
    "colab": {
     "base_uri": "https://localhost:8080/",
     "height": 51
    },
    "id": "ZF7tb-NNGSmP",
    "outputId": "59eb945c-a03c-4a8a-c02f-e92e9a1fbdb3"
   },
   "outputs": [
    {
     "name": "stdout",
     "output_type": "stream",
     "text": [
      "Downloading data from https://github.com/fchollet/deep-learning-models/releases/download/v0.6/mobilenet_1_0_224_tf_no_top.h5\n",
      "17227776/17225924 [==============================] - 1s 0us/step\n"
     ]
    }
   ],
   "source": [
    "#model MobileNet\n",
    "MobileNet_model = MobileNet(include_top=False, input_shape=(img_height, img_width,3))\n",
    "\n",
    "# add custom Layers\n",
    "x = MobileNet_model.output\n",
    "x = GlobalAveragePooling2D()(x)\n",
    "x = Dense(512, activation=\"relu\")(x)\n",
    "Custom_Output = Dense(classes_num, activation='softmax')(x)\n",
    "\n",
    "# define the input and output of the model\n",
    "model = Model(inputs = MobileNet_model.input, outputs = Custom_Output)"
   ]
  },
  {
   "cell_type": "code",
   "execution_count": null,
   "metadata": {
    "id": "G_UsMxq6HDES"
   },
   "outputs": [],
   "source": [
    "model = Model(inputs = MobileNet_model.input, outputs = Custom_Output)"
   ]
  },
  {
   "cell_type": "code",
   "execution_count": null,
   "metadata": {
    "id": "Dt1GMOITHGam"
   },
   "outputs": [],
   "source": [
    "model.compile(loss='categorical_crossentropy',\n",
    "                    optimizer='adam',\n",
    "                    metrics=['accuracy'])"
   ]
  },
  {
   "cell_type": "code",
   "execution_count": null,
   "metadata": {
    "colab": {
     "base_uri": "https://localhost:8080/",
     "height": 1000
    },
    "id": "QWpkFrnkHqvU",
    "outputId": "9074e90e-634e-424f-ae42-24bc37340580"
   },
   "outputs": [
    {
     "name": "stdout",
     "output_type": "stream",
     "text": [
      "Model: \"model_2\"\n",
      "_________________________________________________________________\n",
      "Layer (type)                 Output Shape              Param #   \n",
      "=================================================================\n",
      "input_1 (InputLayer)         (None, 224, 224, 3)       0         \n",
      "_________________________________________________________________\n",
      "conv1_pad (ZeroPadding2D)    (None, 225, 225, 3)       0         \n",
      "_________________________________________________________________\n",
      "conv1 (Conv2D)               (None, 112, 112, 32)      864       \n",
      "_________________________________________________________________\n",
      "conv1_bn (BatchNormalization (None, 112, 112, 32)      128       \n",
      "_________________________________________________________________\n",
      "conv1_relu (ReLU)            (None, 112, 112, 32)      0         \n",
      "_________________________________________________________________\n",
      "conv_dw_1 (DepthwiseConv2D)  (None, 112, 112, 32)      288       \n",
      "_________________________________________________________________\n",
      "conv_dw_1_bn (BatchNormaliza (None, 112, 112, 32)      128       \n",
      "_________________________________________________________________\n",
      "conv_dw_1_relu (ReLU)        (None, 112, 112, 32)      0         \n",
      "_________________________________________________________________\n",
      "conv_pw_1 (Conv2D)           (None, 112, 112, 64)      2048      \n",
      "_________________________________________________________________\n",
      "conv_pw_1_bn (BatchNormaliza (None, 112, 112, 64)      256       \n",
      "_________________________________________________________________\n",
      "conv_pw_1_relu (ReLU)        (None, 112, 112, 64)      0         \n",
      "_________________________________________________________________\n",
      "conv_pad_2 (ZeroPadding2D)   (None, 113, 113, 64)      0         \n",
      "_________________________________________________________________\n",
      "conv_dw_2 (DepthwiseConv2D)  (None, 56, 56, 64)        576       \n",
      "_________________________________________________________________\n",
      "conv_dw_2_bn (BatchNormaliza (None, 56, 56, 64)        256       \n",
      "_________________________________________________________________\n",
      "conv_dw_2_relu (ReLU)        (None, 56, 56, 64)        0         \n",
      "_________________________________________________________________\n",
      "conv_pw_2 (Conv2D)           (None, 56, 56, 128)       8192      \n",
      "_________________________________________________________________\n",
      "conv_pw_2_bn (BatchNormaliza (None, 56, 56, 128)       512       \n",
      "_________________________________________________________________\n",
      "conv_pw_2_relu (ReLU)        (None, 56, 56, 128)       0         \n",
      "_________________________________________________________________\n",
      "conv_dw_3 (DepthwiseConv2D)  (None, 56, 56, 128)       1152      \n",
      "_________________________________________________________________\n",
      "conv_dw_3_bn (BatchNormaliza (None, 56, 56, 128)       512       \n",
      "_________________________________________________________________\n",
      "conv_dw_3_relu (ReLU)        (None, 56, 56, 128)       0         \n",
      "_________________________________________________________________\n",
      "conv_pw_3 (Conv2D)           (None, 56, 56, 128)       16384     \n",
      "_________________________________________________________________\n",
      "conv_pw_3_bn (BatchNormaliza (None, 56, 56, 128)       512       \n",
      "_________________________________________________________________\n",
      "conv_pw_3_relu (ReLU)        (None, 56, 56, 128)       0         \n",
      "_________________________________________________________________\n",
      "conv_pad_4 (ZeroPadding2D)   (None, 57, 57, 128)       0         \n",
      "_________________________________________________________________\n",
      "conv_dw_4 (DepthwiseConv2D)  (None, 28, 28, 128)       1152      \n",
      "_________________________________________________________________\n",
      "conv_dw_4_bn (BatchNormaliza (None, 28, 28, 128)       512       \n",
      "_________________________________________________________________\n",
      "conv_dw_4_relu (ReLU)        (None, 28, 28, 128)       0         \n",
      "_________________________________________________________________\n",
      "conv_pw_4 (Conv2D)           (None, 28, 28, 256)       32768     \n",
      "_________________________________________________________________\n",
      "conv_pw_4_bn (BatchNormaliza (None, 28, 28, 256)       1024      \n",
      "_________________________________________________________________\n",
      "conv_pw_4_relu (ReLU)        (None, 28, 28, 256)       0         \n",
      "_________________________________________________________________\n",
      "conv_dw_5 (DepthwiseConv2D)  (None, 28, 28, 256)       2304      \n",
      "_________________________________________________________________\n",
      "conv_dw_5_bn (BatchNormaliza (None, 28, 28, 256)       1024      \n",
      "_________________________________________________________________\n",
      "conv_dw_5_relu (ReLU)        (None, 28, 28, 256)       0         \n",
      "_________________________________________________________________\n",
      "conv_pw_5 (Conv2D)           (None, 28, 28, 256)       65536     \n",
      "_________________________________________________________________\n",
      "conv_pw_5_bn (BatchNormaliza (None, 28, 28, 256)       1024      \n",
      "_________________________________________________________________\n",
      "conv_pw_5_relu (ReLU)        (None, 28, 28, 256)       0         \n",
      "_________________________________________________________________\n",
      "conv_pad_6 (ZeroPadding2D)   (None, 29, 29, 256)       0         \n",
      "_________________________________________________________________\n",
      "conv_dw_6 (DepthwiseConv2D)  (None, 14, 14, 256)       2304      \n",
      "_________________________________________________________________\n",
      "conv_dw_6_bn (BatchNormaliza (None, 14, 14, 256)       1024      \n",
      "_________________________________________________________________\n",
      "conv_dw_6_relu (ReLU)        (None, 14, 14, 256)       0         \n",
      "_________________________________________________________________\n",
      "conv_pw_6 (Conv2D)           (None, 14, 14, 512)       131072    \n",
      "_________________________________________________________________\n",
      "conv_pw_6_bn (BatchNormaliza (None, 14, 14, 512)       2048      \n",
      "_________________________________________________________________\n",
      "conv_pw_6_relu (ReLU)        (None, 14, 14, 512)       0         \n",
      "_________________________________________________________________\n",
      "conv_dw_7 (DepthwiseConv2D)  (None, 14, 14, 512)       4608      \n",
      "_________________________________________________________________\n",
      "conv_dw_7_bn (BatchNormaliza (None, 14, 14, 512)       2048      \n",
      "_________________________________________________________________\n",
      "conv_dw_7_relu (ReLU)        (None, 14, 14, 512)       0         \n",
      "_________________________________________________________________\n",
      "conv_pw_7 (Conv2D)           (None, 14, 14, 512)       262144    \n",
      "_________________________________________________________________\n",
      "conv_pw_7_bn (BatchNormaliza (None, 14, 14, 512)       2048      \n",
      "_________________________________________________________________\n",
      "conv_pw_7_relu (ReLU)        (None, 14, 14, 512)       0         \n",
      "_________________________________________________________________\n",
      "conv_dw_8 (DepthwiseConv2D)  (None, 14, 14, 512)       4608      \n",
      "_________________________________________________________________\n",
      "conv_dw_8_bn (BatchNormaliza (None, 14, 14, 512)       2048      \n",
      "_________________________________________________________________\n",
      "conv_dw_8_relu (ReLU)        (None, 14, 14, 512)       0         \n",
      "_________________________________________________________________\n",
      "conv_pw_8 (Conv2D)           (None, 14, 14, 512)       262144    \n",
      "_________________________________________________________________\n",
      "conv_pw_8_bn (BatchNormaliza (None, 14, 14, 512)       2048      \n",
      "_________________________________________________________________\n",
      "conv_pw_8_relu (ReLU)        (None, 14, 14, 512)       0         \n",
      "_________________________________________________________________\n",
      "conv_dw_9 (DepthwiseConv2D)  (None, 14, 14, 512)       4608      \n",
      "_________________________________________________________________\n",
      "conv_dw_9_bn (BatchNormaliza (None, 14, 14, 512)       2048      \n",
      "_________________________________________________________________\n",
      "conv_dw_9_relu (ReLU)        (None, 14, 14, 512)       0         \n",
      "_________________________________________________________________\n",
      "conv_pw_9 (Conv2D)           (None, 14, 14, 512)       262144    \n",
      "_________________________________________________________________\n",
      "conv_pw_9_bn (BatchNormaliza (None, 14, 14, 512)       2048      \n",
      "_________________________________________________________________\n",
      "conv_pw_9_relu (ReLU)        (None, 14, 14, 512)       0         \n",
      "_________________________________________________________________\n",
      "conv_dw_10 (DepthwiseConv2D) (None, 14, 14, 512)       4608      \n",
      "_________________________________________________________________\n",
      "conv_dw_10_bn (BatchNormaliz (None, 14, 14, 512)       2048      \n",
      "_________________________________________________________________\n",
      "conv_dw_10_relu (ReLU)       (None, 14, 14, 512)       0         \n",
      "_________________________________________________________________\n",
      "conv_pw_10 (Conv2D)          (None, 14, 14, 512)       262144    \n",
      "_________________________________________________________________\n",
      "conv_pw_10_bn (BatchNormaliz (None, 14, 14, 512)       2048      \n",
      "_________________________________________________________________\n",
      "conv_pw_10_relu (ReLU)       (None, 14, 14, 512)       0         \n",
      "_________________________________________________________________\n",
      "conv_dw_11 (DepthwiseConv2D) (None, 14, 14, 512)       4608      \n",
      "_________________________________________________________________\n",
      "conv_dw_11_bn (BatchNormaliz (None, 14, 14, 512)       2048      \n",
      "_________________________________________________________________\n",
      "conv_dw_11_relu (ReLU)       (None, 14, 14, 512)       0         \n",
      "_________________________________________________________________\n",
      "conv_pw_11 (Conv2D)          (None, 14, 14, 512)       262144    \n",
      "_________________________________________________________________\n",
      "conv_pw_11_bn (BatchNormaliz (None, 14, 14, 512)       2048      \n",
      "_________________________________________________________________\n",
      "conv_pw_11_relu (ReLU)       (None, 14, 14, 512)       0         \n",
      "_________________________________________________________________\n",
      "conv_pad_12 (ZeroPadding2D)  (None, 15, 15, 512)       0         \n",
      "_________________________________________________________________\n",
      "conv_dw_12 (DepthwiseConv2D) (None, 7, 7, 512)         4608      \n",
      "_________________________________________________________________\n",
      "conv_dw_12_bn (BatchNormaliz (None, 7, 7, 512)         2048      \n",
      "_________________________________________________________________\n",
      "conv_dw_12_relu (ReLU)       (None, 7, 7, 512)         0         \n",
      "_________________________________________________________________\n",
      "conv_pw_12 (Conv2D)          (None, 7, 7, 1024)        524288    \n",
      "_________________________________________________________________\n",
      "conv_pw_12_bn (BatchNormaliz (None, 7, 7, 1024)        4096      \n",
      "_________________________________________________________________\n",
      "conv_pw_12_relu (ReLU)       (None, 7, 7, 1024)        0         \n",
      "_________________________________________________________________\n",
      "conv_dw_13 (DepthwiseConv2D) (None, 7, 7, 1024)        9216      \n",
      "_________________________________________________________________\n",
      "conv_dw_13_bn (BatchNormaliz (None, 7, 7, 1024)        4096      \n",
      "_________________________________________________________________\n",
      "conv_dw_13_relu (ReLU)       (None, 7, 7, 1024)        0         \n",
      "_________________________________________________________________\n",
      "conv_pw_13 (Conv2D)          (None, 7, 7, 1024)        1048576   \n",
      "_________________________________________________________________\n",
      "conv_pw_13_bn (BatchNormaliz (None, 7, 7, 1024)        4096      \n",
      "_________________________________________________________________\n",
      "conv_pw_13_relu (ReLU)       (None, 7, 7, 1024)        0         \n",
      "_________________________________________________________________\n",
      "global_average_pooling2d_1 ( (None, 1024)              0         \n",
      "_________________________________________________________________\n",
      "dense_1 (Dense)              (None, 512)               524800    \n",
      "_________________________________________________________________\n",
      "dense_2 (Dense)              (None, 2)                 1026      \n",
      "=================================================================\n",
      "Total params: 3,754,690\n",
      "Trainable params: 3,732,802\n",
      "Non-trainable params: 21,888\n",
      "_________________________________________________________________\n"
     ]
    }
   ],
   "source": [
    "model.summary()"
   ]
  },
  {
   "cell_type": "code",
   "execution_count": null,
   "metadata": {
    "id": "Qp2gqR1THs3n"
   },
   "outputs": [],
   "source": [
    "train_datagen = ImageDataGenerator(\n",
    "    rescale=1. / 255,\n",
    "    shear_range=0.2,\n",
    "    zoom_range=0.2,\n",
    "    horizontal_flip=True)"
   ]
  },
  {
   "cell_type": "code",
   "execution_count": 2,
   "metadata": {
    "colab": {
     "base_uri": "https://localhost:8080/",
     "height": 51
    },
    "id": "cZ5OQ8dgH683",
    "outputId": "534e3ff4-6c2b-42bb-bf26-98b480df72f1"
   },
   "outputs": [],
   "source": [
    "test_datagen = ImageDataGenerator(\n",
    "    rescale=1. / 255)\n",
    "\n",
    "train_generator = train_datagen.flow_from_directory(\n",
    "    train_data_dir,\n",
    "    target_size=(img_height, img_width),\n",
    "    batch_size=batch_size,\n",
    "    class_mode='categorical')\n",
    "\n",
    "validation_generator = test_datagen.flow_from_directory(\n",
    "    validation_data_dir,\n",
    "    target_size=(img_height, img_width),\n",
    "    batch_size=batch_size,\n",
    "    class_mode='categorical')"
   ]
  },
  {
   "cell_type": "code",
   "execution_count": null,
   "metadata": {
    "colab": {
     "base_uri": "https://localhost:8080/",
     "height": 1000
    },
    "id": "_55CyAZjIAcU",
    "outputId": "e6476213-2de9-4537-ca9d-5fb8421354dc"
   },
   "outputs": [
    {
     "name": "stdout",
     "output_type": "stream",
     "text": [
      "Epoch 1/50\n",
      "100/100 [==============================] - 429s 4s/step - loss: 0.3893 - accuracy: 0.8511 - val_loss: 1.3040 - val_accuracy: 0.6603\n",
      "Epoch 2/50\n",
      "100/100 [==============================] - 51s 509ms/step - loss: 0.1642 - accuracy: 0.9346 - val_loss: 1.3373 - val_accuracy: 0.6631\n",
      "Epoch 3/50\n",
      "100/100 [==============================] - 53s 532ms/step - loss: 0.1227 - accuracy: 0.9566 - val_loss: 0.8814 - val_accuracy: 0.8544\n",
      "Epoch 4/50\n",
      "100/100 [==============================] - 51s 509ms/step - loss: 0.0673 - accuracy: 0.9770 - val_loss: 1.0159 - val_accuracy: 0.8944\n",
      "Epoch 5/50\n",
      "100/100 [==============================] - 51s 508ms/step - loss: 0.0854 - accuracy: 0.9721 - val_loss: 2.6895 - val_accuracy: 0.7744\n",
      "Epoch 6/50\n",
      "100/100 [==============================] - 53s 529ms/step - loss: 0.0724 - accuracy: 0.9790 - val_loss: 0.5979 - val_accuracy: 0.8513\n",
      "Epoch 7/50\n",
      "100/100 [==============================] - 51s 509ms/step - loss: 0.0754 - accuracy: 0.9763 - val_loss: 0.0207 - val_accuracy: 0.8549\n",
      "Epoch 8/50\n",
      "100/100 [==============================] - 52s 515ms/step - loss: 0.0546 - accuracy: 0.9797 - val_loss: 0.0125 - val_accuracy: 0.9106\n",
      "Epoch 9/50\n",
      "100/100 [==============================] - 53s 532ms/step - loss: 0.0927 - accuracy: 0.9692 - val_loss: 0.1063 - val_accuracy: 0.8987\n",
      "Epoch 10/50\n",
      "100/100 [==============================] - 51s 507ms/step - loss: 0.0278 - accuracy: 0.9904 - val_loss: 0.5827 - val_accuracy: 0.8855\n",
      "Epoch 11/50\n",
      "100/100 [==============================] - 51s 506ms/step - loss: 0.0258 - accuracy: 0.9930 - val_loss: 0.3359 - val_accuracy: 0.9204\n",
      "Epoch 12/50\n",
      "100/100 [==============================] - 53s 528ms/step - loss: 0.0246 - accuracy: 0.9933 - val_loss: 0.4541 - val_accuracy: 0.8439\n",
      "Epoch 13/50\n",
      "100/100 [==============================] - 51s 506ms/step - loss: 0.0378 - accuracy: 0.9857 - val_loss: 0.6813 - val_accuracy: 0.8956\n",
      "Epoch 14/50\n",
      "100/100 [==============================] - 51s 509ms/step - loss: 0.0421 - accuracy: 0.9856 - val_loss: 0.0371 - val_accuracy: 0.9063\n",
      "Epoch 15/50\n",
      "100/100 [==============================] - 53s 526ms/step - loss: 0.0274 - accuracy: 0.9895 - val_loss: 0.2236 - val_accuracy: 0.9152\n",
      "Epoch 16/50\n",
      "100/100 [==============================] - 50s 498ms/step - loss: 0.0197 - accuracy: 0.9939 - val_loss: 0.1674 - val_accuracy: 0.9155\n",
      "Epoch 17/50\n",
      "100/100 [==============================] - 51s 510ms/step - loss: 0.0329 - accuracy: 0.9888 - val_loss: 1.0137 - val_accuracy: 0.8799\n",
      "Epoch 18/50\n",
      "100/100 [==============================] - 53s 532ms/step - loss: 0.0372 - accuracy: 0.9881 - val_loss: 0.5093 - val_accuracy: 0.8708\n",
      "Epoch 19/50\n",
      "100/100 [==============================] - 50s 501ms/step - loss: 0.0546 - accuracy: 0.9818 - val_loss: 0.0189 - val_accuracy: 0.8851\n",
      "Epoch 20/50\n",
      "100/100 [==============================] - 51s 508ms/step - loss: 0.0430 - accuracy: 0.9869 - val_loss: 0.6225 - val_accuracy: 0.8799\n",
      "Epoch 21/50\n",
      "100/100 [==============================] - 54s 537ms/step - loss: 0.0352 - accuracy: 0.9888 - val_loss: 7.4506e-08 - val_accuracy: 0.9352\n",
      "Epoch 22/50\n",
      "100/100 [==============================] - 50s 497ms/step - loss: 0.0147 - accuracy: 0.9952 - val_loss: 0.3533 - val_accuracy: 0.8453\n",
      "Epoch 23/50\n",
      "100/100 [==============================] - 52s 521ms/step - loss: 0.0061 - accuracy: 0.9990 - val_loss: 0.0075 - val_accuracy: 0.8893\n",
      "Epoch 24/50\n",
      "100/100 [==============================] - 50s 502ms/step - loss: 0.0357 - accuracy: 0.9892 - val_loss: 0.0250 - val_accuracy: 0.9441\n",
      "Epoch 25/50\n",
      "100/100 [==============================] - 51s 505ms/step - loss: 0.0103 - accuracy: 0.9971 - val_loss: 0.1058 - val_accuracy: 0.9208\n",
      "Epoch 26/50\n",
      "100/100 [==============================] - 52s 524ms/step - loss: 0.0288 - accuracy: 0.9923 - val_loss: 1.3261 - val_accuracy: 0.9138\n",
      "Epoch 27/50\n",
      "100/100 [==============================] - 50s 505ms/step - loss: 0.0278 - accuracy: 0.9914 - val_loss: 0.3035 - val_accuracy: 0.9253\n",
      "Epoch 28/50\n",
      "100/100 [==============================] - 50s 503ms/step - loss: 0.0341 - accuracy: 0.9885 - val_loss: 8.2032e-04 - val_accuracy: 0.9352\n",
      "Epoch 29/50\n",
      "100/100 [==============================] - 52s 522ms/step - loss: 0.0192 - accuracy: 0.9933 - val_loss: 0.0028 - val_accuracy: 0.9455\n",
      "Epoch 30/50\n",
      "100/100 [==============================] - 50s 505ms/step - loss: 0.0042 - accuracy: 0.9990 - val_loss: 0.0810 - val_accuracy: 0.9302\n",
      "Epoch 31/50\n",
      "100/100 [==============================] - 50s 502ms/step - loss: 0.0122 - accuracy: 0.9968 - val_loss: 0.1569 - val_accuracy: 0.9298\n",
      "Epoch 32/50\n",
      "100/100 [==============================] - 53s 531ms/step - loss: 0.0420 - accuracy: 0.9898 - val_loss: 0.7275 - val_accuracy: 0.8306\n",
      "Epoch 33/50\n",
      "100/100 [==============================] - 50s 499ms/step - loss: 0.0461 - accuracy: 0.9825 - val_loss: 0.1517 - val_accuracy: 0.9253\n",
      "Epoch 34/50\n",
      "100/100 [==============================] - 50s 500ms/step - loss: 0.0164 - accuracy: 0.9942 - val_loss: 0.4845 - val_accuracy: 0.9246\n",
      "Epoch 35/50\n",
      "100/100 [==============================] - 53s 529ms/step - loss: 0.0329 - accuracy: 0.9888 - val_loss: 0.2095 - val_accuracy: 0.9306\n",
      "Epoch 36/50\n",
      "100/100 [==============================] - 50s 500ms/step - loss: 0.0202 - accuracy: 0.9923 - val_loss: 0.5637 - val_accuracy: 0.9399\n",
      "Epoch 37/50\n",
      "100/100 [==============================] - 50s 501ms/step - loss: 0.0226 - accuracy: 0.9927 - val_loss: 0.6060 - val_accuracy: 0.9138\n",
      "Epoch 38/50\n",
      "100/100 [==============================] - 54s 536ms/step - loss: 0.0342 - accuracy: 0.9892 - val_loss: 0.2056 - val_accuracy: 0.9452\n",
      "Epoch 39/50\n",
      "100/100 [==============================] - 50s 501ms/step - loss: 0.0218 - accuracy: 0.9952 - val_loss: 0.7701 - val_accuracy: 0.9046\n",
      "Epoch 40/50\n",
      "100/100 [==============================] - 50s 503ms/step - loss: 0.0207 - accuracy: 0.9930 - val_loss: 0.1201 - val_accuracy: 0.9106\n",
      "Epoch 41/50\n",
      "100/100 [==============================] - 53s 534ms/step - loss: 0.0141 - accuracy: 0.9968 - val_loss: 0.2674 - val_accuracy: 0.9295\n",
      "Epoch 42/50\n",
      "100/100 [==============================] - 50s 499ms/step - loss: 0.0126 - accuracy: 0.9962 - val_loss: 0.3070 - val_accuracy: 0.9102\n",
      "Epoch 43/50\n",
      " 43/100 [===========>..................] - ETA: 22s - loss: 0.0159 - accuracy: 0.9948"
     ]
    }
   ],
   "source": [
    "r = model.fit_generator(\n",
    "        train_generator,\n",
    "        steps_per_epoch=100,\n",
    "        epochs=50,\n",
    "        shuffle=True,\n",
    "        validation_data=validation_generator,\n",
    "        validation_steps=100\n",
    "    )\n",
    "\n",
    "#Saving Model\n",
    "target_dir = './models/'\n",
    "if not os.path.exists(target_dir):\n",
    "  os.mkdir(target_dir)\n",
    "model_finetuned.save('./models/MobileNet.h5')\n",
    "model_finetuned.save_weights('./models/MobileNet_weights.h5')"
   ]
  },
  {
   "cell_type": "code",
   "execution_count": null,
   "metadata": {
    "id": "sniQV06WhITo"
   },
   "outputs": [],
   "source": []
  }
 ],
 "metadata": {
  "colab": {
   "name": "MobileNet FineTuning.ipynb",
   "provenance": []
  },
  "kernelspec": {
   "display_name": "Python 3",
   "language": "python",
   "name": "python3"
  },
  "language_info": {
   "codemirror_mode": {
    "name": "ipython",
    "version": 3
   },
   "file_extension": ".py",
   "mimetype": "text/x-python",
   "name": "python",
   "nbconvert_exporter": "python",
   "pygments_lexer": "ipython3",
   "version": "3.7.5"
  }
 },
 "nbformat": 4,
 "nbformat_minor": 1
}
