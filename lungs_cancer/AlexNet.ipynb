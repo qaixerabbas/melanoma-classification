{
 "cells": [
  {
   "cell_type": "code",
   "execution_count": null,
   "metadata": {
    "colab": {
     "base_uri": "https://localhost:8080/",
     "height": 34
    },
    "colab_type": "code",
    "id": "XPHGv9J2RVFE",
    "outputId": "c7935dfb-5e8f-4a65-fdca-37da7b574a9f"
   },
   "outputs": [
    {
     "name": "stdout",
     "output_type": "stream",
     "text": [
      "Drive already mounted at /content/drive; to attempt to forcibly remount, call drive.mount(\"/content/drive\", force_remount=True).\n"
     ]
    }
   ],
   "source": [
    "from google.colab import drive\n",
    "drive.mount('/content/drive')"
   ]
  },
  {
   "cell_type": "code",
   "execution_count": null,
   "metadata": {
    "colab": {
     "base_uri": "https://localhost:8080/",
     "height": 34
    },
    "colab_type": "code",
    "id": "wWZGPpI5USiz",
    "outputId": "6e71569a-d23f-4bed-e61d-c48620f25584"
   },
   "outputs": [
    {
     "name": "stdout",
     "output_type": "stream",
     "text": [
      "/content/drive/My Drive/torch\n"
     ]
    }
   ],
   "source": [
    "%cd /content/drive/'My Drive'/torch"
   ]
  },
  {
   "cell_type": "code",
   "execution_count": null,
   "metadata": {
    "colab": {},
    "colab_type": "code",
    "id": "c6XzBpNjVeWV"
   },
   "outputs": [],
   "source": [
    "#%env CUDA_VISIBLE_DEVICES=2\n",
    "\n",
    "import torch, torchvision\n",
    "from torchvision import datasets, models, transforms\n",
    "import torch.nn as nn\n",
    "import torch.optim as optim\n",
    "from torch.utils.data import DataLoader\n",
    "import time\n",
    "from torchsummary import summary\n",
    "import numpy as np\n",
    "import matplotlib.pyplot as plt\n",
    "import os\n",
    "from PIL import Image\n",
    "from torch.optim import lr_scheduler\n",
    "import copy\n",
    "import shutil  \n",
    "import re  "
   ]
  },
  {
   "cell_type": "code",
   "execution_count": null,
   "metadata": {
    "colab": {},
    "colab_type": "code",
    "id": "UeZ-aWO3VjKy"
   },
   "outputs": [],
   "source": [
    "# Applying Transforms to the Data\n",
    "image_transforms = { \n",
    "    'train': transforms.Compose([\n",
    "        transforms.RandomResizedCrop(size=224, scale=(0.8, 1.0)),\n",
    "        transforms.RandomRotation(degrees=15),\n",
    "        transforms.RandomHorizontalFlip(),\n",
    "        transforms.CenterCrop(size=224),\n",
    "        transforms.ToTensor(),\n",
    "        transforms.Normalize([0.485, 0.456, 0.406],\n",
    "                             [0.229, 0.224, 0.225])\n",
    "    ]),\n",
    "    'valid': transforms.Compose([\n",
    "        transforms.Resize(size=224),\n",
    "        transforms.CenterCrop(size=224),\n",
    "        transforms.RandomRotation(degrees=15),\n",
    "        transforms.RandomHorizontalFlip(),\n",
    "        transforms.ToTensor(),\n",
    "        transforms.Normalize([0.485, 0.456, 0.406],\n",
    "                             [0.229, 0.224, 0.225])\n",
    "    ]),\n",
    "    'test': transforms.Compose([\n",
    "        transforms.Resize(size=224),\n",
    "        transforms.CenterCrop(size=224),\n",
    "        transforms.RandomRotation(degrees=15),\n",
    "        transforms.RandomHorizontalFlip(),\n",
    "        transforms.ToTensor(),\n",
    "        transforms.Normalize([0.485, 0.456, 0.406],\n",
    "                             [0.229, 0.224, 0.225])\n",
    "    ])\n",
    "}"
   ]
  },
  {
   "cell_type": "code",
   "execution_count": 1,
   "metadata": {
    "colab": {
     "base_uri": "https://localhost:8080/",
     "height": 51
    },
    "colab_type": "code",
    "id": "1xwbElXKVj6b",
    "outputId": "fd6d2ef1-f996-4c2a-a094-fe262e9bce6c"
   },
   "outputs": [],
   "source": [
    "# Load the Data\n",
    "\n",
    "# Set train and valid directory paths\n",
    "\n",
    "dataset = './data/'\n",
    "\n",
    "train_directory = os.path.join(dataset, 'train')\n",
    "valid_directory = os.path.join(dataset, 'val')\n",
    "test_directory = os.path.join(dataset, 'test')\n",
    "\n",
    "# Batch size\n",
    "bs = 32\n",
    "\n",
    "# Number of classes\n",
    "num_classes = len(os.listdir(valid_directory))\n",
    "print(num_classes)\n",
    "\n",
    "# Load Data from folders\n",
    "data = {\n",
    "    'train': datasets.ImageFolder(root=train_directory, transform=image_transforms['train']),\n",
    "    'val': datasets.ImageFolder(root=valid_directory, transform=image_transforms['valid']),\n",
    "    'test': datasets.ImageFolder(root=test_directory, transform=image_transforms['test'])\n",
    "}\n",
    "\n",
    "# Get a mapping of the indices to the class names, in order to see the output classes of the test images.\n",
    "idx_to_class = {v: k for k, v in data['train'].class_to_idx.items()}\n",
    "print(idx_to_class)\n",
    "\n",
    "# Size of Data, to be used for calculating Average Loss and Accuracy\n",
    "train_data_size = len(data['train'])\n",
    "valid_data_size = len(data['val'])\n",
    "test_data_size = len(data['test'])\n",
    "\n",
    "# Create iterators for the Data loaded using DataLoader module\n",
    "train_data_loader = DataLoader(data['train'], batch_size=bs, shuffle=True)\n",
    "valid_data_loader = DataLoader(data['val'], batch_size=bs, shuffle=True)\n",
    "test_data_loader = DataLoader(data['test'], batch_size=bs, shuffle=True)"
   ]
  },
  {
   "cell_type": "code",
   "execution_count": null,
   "metadata": {
    "colab": {},
    "colab_type": "code",
    "id": "E4HrKedMVrwm"
   },
   "outputs": [],
   "source": [
    "# Load pretrained ResNet18 Model\n",
    "alexnet = models.alexnet(pretrained=True)\n",
    "alexnet = alexnet.to('cuda:0')"
   ]
  },
  {
   "cell_type": "code",
   "execution_count": null,
   "metadata": {
    "colab": {},
    "colab_type": "code",
    "id": "6GNfT33qV9GX"
   },
   "outputs": [],
   "source": [
    "# Freeze model parameters\n",
    "for param in alexnet.parameters():\n",
    "    param.requires_grad = False"
   ]
  },
  {
   "cell_type": "code",
   "execution_count": null,
   "metadata": {
    "colab": {},
    "colab_type": "code",
    "id": "5Rr49XBXWs7F"
   },
   "outputs": [],
   "source": [
    "alexnet.classifier = nn.Sequential(\n",
    "    nn.Linear(9216, 256),\n",
    "    nn.ReLU(),\n",
    "    nn.Dropout(0.4),\n",
    "    nn.Linear(256, num_classes),\n",
    "    nn.LogSoftmax(dim=1) # For using NLLLoss()\n",
    ")\n",
    "\n",
    "# Convert model to be used on GPU\n",
    "alexnet = alexnet.to('cuda:0')"
   ]
  },
  {
   "cell_type": "code",
   "execution_count": null,
   "metadata": {
    "colab": {},
    "colab_type": "code",
    "id": "HrsLKE3hXnYa"
   },
   "outputs": [],
   "source": [
    "# Define Optimizer and Loss Function\n",
    "loss_func = nn.NLLLoss()\n",
    "optimizer = optim.Adam(alexnet.parameters())"
   ]
  },
  {
   "cell_type": "code",
   "execution_count": null,
   "metadata": {
    "colab": {},
    "colab_type": "code",
    "id": "laOlYCB2aIx1"
   },
   "outputs": [],
   "source": [
    "def train_and_validate(model, loss_criterion, optimizer, epochs=25):\n",
    "    '''\n",
    "    Function to train and validate\n",
    "    Parameters\n",
    "        :param model: Model to train and validate\n",
    "        :param loss_criterion: Loss Criterion to minimize\n",
    "        :param optimizer: Optimizer for computing gradients\n",
    "        :param epochs: Number of epochs (default=25)\n",
    "  \n",
    "    Returns\n",
    "        model: Trained Model with best validation accuracy\n",
    "        history: (dict object): Having training loss, accuracy and validation loss, accuracy\n",
    "    '''\n",
    "    \n",
    "    start = time.time()\n",
    "    history = []\n",
    "    best_acc = 0.0\n",
    "\n",
    "    for epoch in range(epochs):\n",
    "        epoch_start = time.time()\n",
    "        print(\"Epoch: {}/{}\".format(epoch+1, epochs))\n",
    "        \n",
    "        # Set to training mode\n",
    "        model.train()\n",
    "        \n",
    "        # Loss and Accuracy within the epoch\n",
    "        train_loss = 0.0\n",
    "        train_acc = 0.0\n",
    "        \n",
    "        valid_loss = 0.0\n",
    "        valid_acc = 0.0\n",
    "        \n",
    "        for i, (inputs, labels) in enumerate(train_data_loader):\n",
    "\n",
    "            inputs = inputs.to(device)\n",
    "            labels = labels.to(device)\n",
    "            \n",
    "            # Clean existing gradients\n",
    "            optimizer.zero_grad()\n",
    "            \n",
    "            # Forward pass - compute outputs on input data using the model\n",
    "            outputs = model(inputs)\n",
    "            \n",
    "            # Compute loss\n",
    "            loss = loss_criterion(outputs, labels)\n",
    "            \n",
    "            # Backpropagate the gradients\n",
    "            loss.backward()\n",
    "            \n",
    "            # Update the parameters\n",
    "            optimizer.step()\n",
    "            \n",
    "            # Compute the total loss for the batch and add it to train_loss\n",
    "            train_loss += loss.item() * inputs.size(0)\n",
    "            \n",
    "            # Compute the accuracy\n",
    "            ret, predictions = torch.max(outputs.data, 1)\n",
    "            correct_counts = predictions.eq(labels.data.view_as(predictions))\n",
    "            \n",
    "            # Convert correct_counts to float and then compute the mean\n",
    "            acc = torch.mean(correct_counts.type(torch.FloatTensor))\n",
    "            \n",
    "            # Compute total accuracy in the whole batch and add to train_acc\n",
    "            train_acc += acc.item() * inputs.size(0)\n",
    "            \n",
    "            #print(\"Batch number: {:03d}, Training: Loss: {:.4f}, Accuracy: {:.4f}\".format(i, loss.item(), acc.item()))\n",
    "\n",
    "            \n",
    "        # Validation - No gradient tracking needed\n",
    "        with torch.no_grad():\n",
    "\n",
    "            # Set to evaluation mode\n",
    "            model.eval()\n",
    "\n",
    "            # Validation loop\n",
    "            for j, (inputs, labels) in enumerate(valid_data_loader):\n",
    "                inputs = inputs.to(device)\n",
    "                labels = labels.to(device)\n",
    "\n",
    "                # Forward pass - compute outputs on input data using the model\n",
    "                outputs = model(inputs)\n",
    "\n",
    "                # Compute loss\n",
    "                loss = loss_criterion(outputs, labels)\n",
    "\n",
    "                # Compute the total loss for the batch and add it to valid_loss\n",
    "                valid_loss += loss.item() * inputs.size(0)\n",
    "\n",
    "                # Calculate validation accuracy\n",
    "                ret, predictions = torch.max(outputs.data, 1)\n",
    "                correct_counts = predictions.eq(labels.data.view_as(predictions))\n",
    "\n",
    "                # Convert correct_counts to float and then compute the mean\n",
    "                acc = torch.mean(correct_counts.type(torch.FloatTensor))\n",
    "\n",
    "                # Compute total accuracy in the whole batch and add to valid_acc\n",
    "                valid_acc += acc.item() * inputs.size(0)\n",
    "\n",
    "                #print(\"Validation Batch number: {:03d}, Validation: Loss: {:.4f}, Accuracy: {:.4f}\".format(j, loss.item(), acc.item()))\n",
    "            \n",
    "        # Find average training loss and training accuracy\n",
    "        avg_train_loss = train_loss/train_data_size \n",
    "        avg_train_acc = train_acc/train_data_size\n",
    "\n",
    "        # Find average training loss and training accuracy\n",
    "        avg_valid_loss = valid_loss/valid_data_size \n",
    "        avg_valid_acc = valid_acc/valid_data_size\n",
    "\n",
    "        history.append([avg_train_loss, avg_valid_loss, avg_train_acc, avg_valid_acc])\n",
    "                \n",
    "        epoch_end = time.time()\n",
    "    \n",
    "        print(\"Epoch : {:03d}, Training: Loss: {:.4f}, Accuracy: {:.4f}%, \\n\\t\\tValidation : Loss : {:.4f}, Accuracy: {:.4f}%, Time: {:.4f}s\".format(epoch, avg_train_loss, avg_train_acc*100, avg_valid_loss, avg_valid_acc*100, epoch_end-epoch_start))\n",
    "        \n",
    "        # Save if the model has best accuracy till now\n",
    "        torch.save(model, dataset+'_model_'+str(epoch)+'.pt')\n",
    "            \n",
    "    return model, history\n",
    "    "
   ]
  },
  {
   "cell_type": "code",
   "execution_count": null,
   "metadata": {
    "colab": {
     "base_uri": "https://localhost:8080/",
     "height": 1000
    },
    "colab_type": "code",
    "id": "lrBD6SuYaS4b",
    "outputId": "cba11f42-f799-40af-dd0b-e54f04f7a878"
   },
   "outputs": [
    {
     "name": "stdout",
     "output_type": "stream",
     "text": [
      "Epoch: 1/25\n",
      "Epoch : 000, Training: Loss: 0.3838, Accuracy: 85.9868%, \n",
      "\t\tValidation : Loss : 0.2102, Accuracy: 91.5995%, Time: 1913.2794s\n",
      "Epoch: 2/25\n",
      "Epoch : 001, Training: Loss: 0.2376, Accuracy: 90.1316%, \n",
      "\t\tValidation : Loss : 0.1990, Accuracy: 92.7503%, Time: 22.0857s\n",
      "Epoch: 3/25\n",
      "Epoch : 002, Training: Loss: 0.2035, Accuracy: 91.4474%, \n",
      "\t\tValidation : Loss : 0.1691, Accuracy: 94.2463%, Time: 22.6818s\n",
      "Epoch: 4/25\n",
      "Epoch : 003, Training: Loss: 0.1927, Accuracy: 91.8092%, \n",
      "\t\tValidation : Loss : 0.1577, Accuracy: 93.0955%, Time: 21.9686s\n",
      "Epoch: 5/25\n",
      "Epoch : 004, Training: Loss: 0.1756, Accuracy: 92.5658%, \n",
      "\t\tValidation : Loss : 0.1467, Accuracy: 94.2463%, Time: 21.8972s\n",
      "Epoch: 6/25\n",
      "Epoch : 005, Training: Loss: 0.1674, Accuracy: 93.2237%, \n",
      "\t\tValidation : Loss : 0.1565, Accuracy: 93.5558%, Time: 21.7999s\n",
      "Epoch: 7/25\n",
      "Epoch : 006, Training: Loss: 0.1510, Accuracy: 93.9474%, \n",
      "\t\tValidation : Loss : 0.1508, Accuracy: 94.0161%, Time: 21.7737s\n",
      "Epoch: 8/25\n",
      "Epoch : 007, Training: Loss: 0.1380, Accuracy: 94.9013%, \n",
      "\t\tValidation : Loss : 0.1624, Accuracy: 93.7860%, Time: 21.8120s\n",
      "Epoch: 9/25\n",
      "Epoch : 008, Training: Loss: 0.1420, Accuracy: 94.1447%, \n",
      "\t\tValidation : Loss : 0.1248, Accuracy: 95.1669%, Time: 22.3558s\n",
      "Epoch: 10/25\n",
      "Epoch : 009, Training: Loss: 0.1423, Accuracy: 94.2763%, \n",
      "\t\tValidation : Loss : 0.1286, Accuracy: 95.0518%, Time: 22.3427s\n",
      "Epoch: 11/25\n",
      "Epoch : 010, Training: Loss: 0.1204, Accuracy: 94.8684%, \n",
      "\t\tValidation : Loss : 0.1504, Accuracy: 94.1312%, Time: 21.7575s\n",
      "Epoch: 12/25\n",
      "Epoch : 011, Training: Loss: 0.1218, Accuracy: 94.8355%, \n",
      "\t\tValidation : Loss : 0.1150, Accuracy: 95.0518%, Time: 21.8313s\n",
      "Epoch: 13/25\n",
      "Epoch : 012, Training: Loss: 0.1208, Accuracy: 95.2632%, \n",
      "\t\tValidation : Loss : 0.1185, Accuracy: 95.7422%, Time: 21.7067s\n",
      "Epoch: 14/25\n",
      "Epoch : 013, Training: Loss: 0.1356, Accuracy: 94.8684%, \n",
      "\t\tValidation : Loss : 0.1256, Accuracy: 94.4764%, Time: 21.7635s\n",
      "Epoch: 15/25\n",
      "Epoch : 014, Training: Loss: 0.1283, Accuracy: 94.8684%, \n",
      "\t\tValidation : Loss : 0.1206, Accuracy: 94.4764%, Time: 21.7125s\n",
      "Epoch: 16/25\n",
      "Epoch : 015, Training: Loss: 0.1113, Accuracy: 95.8553%, \n",
      "\t\tValidation : Loss : 0.1076, Accuracy: 95.7422%, Time: 21.7541s\n",
      "Epoch: 17/25\n",
      "Epoch : 016, Training: Loss: 0.1105, Accuracy: 95.2303%, \n",
      "\t\tValidation : Loss : 0.1451, Accuracy: 94.7066%, Time: 22.3827s\n",
      "Epoch: 18/25\n",
      "Epoch : 017, Training: Loss: 0.1116, Accuracy: 95.5921%, \n",
      "\t\tValidation : Loss : 0.1311, Accuracy: 94.5915%, Time: 21.6789s\n",
      "Epoch: 19/25\n",
      "Epoch : 018, Training: Loss: 0.1016, Accuracy: 95.7895%, \n",
      "\t\tValidation : Loss : 0.0889, Accuracy: 95.9724%, Time: 21.7550s\n",
      "Epoch: 20/25\n",
      "Epoch : 019, Training: Loss: 0.1019, Accuracy: 95.6250%, \n",
      "\t\tValidation : Loss : 0.0802, Accuracy: 96.3176%, Time: 21.7267s\n",
      "Epoch: 21/25\n",
      "Epoch : 020, Training: Loss: 0.1030, Accuracy: 95.7566%, \n",
      "\t\tValidation : Loss : 0.0961, Accuracy: 96.5478%, Time: 21.7005s\n",
      "Epoch: 22/25\n",
      "Epoch : 021, Training: Loss: 0.1033, Accuracy: 95.9539%, \n",
      "\t\tValidation : Loss : 0.0871, Accuracy: 96.5478%, Time: 21.7492s\n",
      "Epoch: 23/25\n",
      "Epoch : 022, Training: Loss: 0.0944, Accuracy: 96.6118%, \n",
      "\t\tValidation : Loss : 0.1238, Accuracy: 94.9367%, Time: 21.8257s\n",
      "Epoch: 24/25\n",
      "Epoch : 023, Training: Loss: 0.0918, Accuracy: 96.2171%, \n",
      "\t\tValidation : Loss : 0.0751, Accuracy: 96.6628%, Time: 22.7851s\n",
      "Epoch: 25/25\n",
      "Epoch : 024, Training: Loss: 0.1009, Accuracy: 95.8882%, \n",
      "\t\tValidation : Loss : 0.0773, Accuracy: 97.2382%, Time: 21.8413s\n"
     ]
    }
   ],
   "source": [
    "device = torch.device(\"cuda:0\" if torch.cuda.is_available() else \"cpu\")\n",
    "\n",
    "# Print the model to be trained\n",
    "#summary(resnet50, input_size=(3, 224, 224), batch_size=bs, device='cuda')\n",
    "\n",
    "# Train the model for 25 epochs\n",
    "num_epochs = 25\n",
    "trained_model, history = train_and_validate(alexnet, loss_func, optimizer, num_epochs)\n",
    "\n",
    "torch.save(history, dataset+'_history.pt')"
   ]
  },
  {
   "cell_type": "code",
   "execution_count": null,
   "metadata": {
    "colab": {
     "base_uri": "https://localhost:8080/",
     "height": 283
    },
    "colab_type": "code",
    "id": "E52Y7aJ4aZo1",
    "outputId": "20482b12-cd46-4af7-a158-ba5c4887ffc8"
   },
   "outputs": [
    {
     "data": {
      "image/png": "[encoded data removed]",
      "text/plain": [
       "<Figure size 432x288 with 1 Axes>"
      ]
     },
     "metadata": {
      "needs_background": "light",
      "tags": []
     },
     "output_type": "display_data"
    }
   ],
   "source": [
    "history = np.array(history)\n",
    "plt.plot(history[:,0:2])\n",
    "plt.legend(['Tr Loss', 'Val Loss'])\n",
    "plt.xlabel('Epoch Number')\n",
    "plt.ylabel('Loss')\n",
    "plt.ylim(0,1)\n",
    "plt.savefig(dataset+'_loss_curve.png')\n",
    "plt.show()\n"
   ]
  },
  {
   "cell_type": "code",
   "execution_count": null,
   "metadata": {
    "colab": {
     "base_uri": "https://localhost:8080/",
     "height": 283
    },
    "colab_type": "code",
    "id": "XE38fLx_kWRN",
    "outputId": "39191ae7-c613-45b8-d418-027d3b74b72a"
   },
   "outputs": [
    {
     "data": {
      "image/png": "[encoded data removed]",
      "text/plain": [
       "<Figure size 432x288 with 1 Axes>"
      ]
     },
     "metadata": {
      "needs_background": "light",
      "tags": []
     },
     "output_type": "display_data"
    }
   ],
   "source": [
    "plt.plot(history[:,2:4])\n",
    "plt.legend(['Tr Accuracy', 'Val Accuracy'])\n",
    "plt.xlabel('Epoch Number')\n",
    "plt.ylabel('Accuracy')\n",
    "plt.ylim(0,1)\n",
    "plt.savefig(dataset+'_accuracy_curve.png')\n",
    "plt.show()"
   ]
  },
  {
   "cell_type": "code",
   "execution_count": null,
   "metadata": {
    "colab": {},
    "colab_type": "code",
    "id": "rdzCT4cPkbxy"
   },
   "outputs": [],
   "source": [
    " def computeTestSetAccuracy(model, loss_criterion):\n",
    "    '''\n",
    "    Function to compute the accuracy on the test set\n",
    "    Parameters\n",
    "        :param model: Model to test\n",
    "        :param loss_criterion: Loss Criterion to minimize\n",
    "    '''\n",
    "\n",
    "    device = torch.device(\"cuda:0\" if torch.cuda.is_available() else \"cpu\")\n",
    "\n",
    "    test_acc = 0.0\n",
    "    test_loss = 0.0\n",
    "\n",
    "    # Validation - No gradient tracking needed\n",
    "    with torch.no_grad():\n",
    "\n",
    "        # Set to evaluation mode\n",
    "        model.eval()\n",
    "\n",
    "        # Validation loop\n",
    "        for j, (inputs, labels) in enumerate(test_data_loader):\n",
    "            inputs = inputs.to(device)\n",
    "            labels = labels.to(device)\n",
    "\n",
    "            # Forward pass - compute outputs on input data using the model\n",
    "            outputs = model(inputs)\n",
    "\n",
    "            # Compute loss\n",
    "            loss = loss_criterion(outputs, labels)\n",
    "\n",
    "            # Compute the total loss for the batch and add it to valid_loss\n",
    "            test_loss += loss.item() * inputs.size(0)\n",
    "\n",
    "            # Calculate validation accuracy\n",
    "            ret, predictions = torch.max(outputs.data, 1)\n",
    "            correct_counts = predictions.eq(labels.data.view_as(predictions))\n",
    "\n",
    "            # Convert correct_counts to float and then compute the mean\n",
    "            acc = torch.mean(correct_counts.type(torch.FloatTensor))\n",
    "\n",
    "            # Compute total accuracy in the whole batch and add to valid_acc\n",
    "            test_acc += acc.item() * inputs.size(0)\n",
    "\n",
    "            print(\"Test Batch number: {:03d}, Test: Loss: {:.4f}, Accuracy: {:.4f}\".format(j, loss.item(), acc.item()))\n",
    "\n",
    "    # Find average test loss and test accuracy\n",
    "    avg_test_loss = test_loss/test_data_size \n",
    "    avg_test_acc = test_acc/test_data_size\n",
    "\n",
    "    print(\"Test accuracy : \" + str(avg_test_acc))"
   ]
  },
  {
   "cell_type": "code",
   "execution_count": null,
   "metadata": {
    "colab": {
     "base_uri": "https://localhost:8080/",
     "height": 272
    },
    "colab_type": "code",
    "id": "YwqOO0_8kf3X",
    "outputId": "48a7b781-1405-429c-d205-c0c75e39e4db"
   },
   "outputs": [
    {
     "name": "stdout",
     "output_type": "stream",
     "text": [
      "Test Batch number: 000, Test: Loss: 0.0253, Accuracy: 1.0000\n",
      "Test Batch number: 001, Test: Loss: 0.0690, Accuracy: 0.9688\n",
      "Test Batch number: 002, Test: Loss: 0.0448, Accuracy: 0.9688\n",
      "Test Batch number: 003, Test: Loss: 0.0304, Accuracy: 1.0000\n",
      "Test Batch number: 004, Test: Loss: 0.0626, Accuracy: 0.9375\n",
      "Test Batch number: 005, Test: Loss: 0.1646, Accuracy: 0.9062\n",
      "Test Batch number: 006, Test: Loss: 0.0550, Accuracy: 0.9688\n",
      "Test Batch number: 007, Test: Loss: 0.0205, Accuracy: 1.0000\n",
      "Test Batch number: 008, Test: Loss: 0.1068, Accuracy: 0.9062\n",
      "Test Batch number: 009, Test: Loss: 0.0528, Accuracy: 0.9688\n",
      "Test Batch number: 010, Test: Loss: 0.1818, Accuracy: 0.9375\n",
      "Test Batch number: 011, Test: Loss: 0.2220, Accuracy: 0.9688\n",
      "Test Batch number: 012, Test: Loss: 0.1081, Accuracy: 0.9688\n",
      "Test Batch number: 013, Test: Loss: 0.0009, Accuracy: 1.0000\n",
      "Test accuracy : 0.9632183908045977\n"
     ]
    }
   ],
   "source": [
    "loss_func = nn.NLLLoss()\n",
    "model = trained_model\n",
    "computeTestSetAccuracy(model, loss_func)"
   ]
  },
  {
   "cell_type": "code",
   "execution_count": null,
   "metadata": {
    "colab": {},
    "colab_type": "code",
    "id": "A49ZVe6-klaW"
   },
   "outputs": [],
   "source": []
  }
 ],
 "metadata": {
  "accelerator": "GPU",
  "colab": {
   "name": "AlexNet.ipynb",
   "provenance": []
  },
  "kernelspec": {
   "display_name": "Python 3",
   "language": "python",
   "name": "python3"
  },
  "language_info": {
   "codemirror_mode": {
    "name": "ipython",
    "version": 3
   },
   "file_extension": ".py",
   "mimetype": "text/x-python",
   "name": "python",
   "nbconvert_exporter": "python",
   "pygments_lexer": "ipython3",
   "version": "3.7.5"
  }
 },
 "nbformat": 4,
 "nbformat_minor": 1
}
